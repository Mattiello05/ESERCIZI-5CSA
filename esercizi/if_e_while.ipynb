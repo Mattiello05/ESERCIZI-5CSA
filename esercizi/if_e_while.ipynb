{
  "cells": [
    {
      "cell_type": "markdown",
      "metadata": {
        "id": "HB3XbPDcSqe1"
      },
      "source": [
        "# Esercizi IF"
      ]
    },
    {
      "cell_type": "code",
      "execution_count": 13,
      "metadata": {
        "id": "0U7L9A29RfeT"
      },
      "outputs": [
        {
          "name": "stdout",
          "output_type": "stream",
          "text": [
            "Il numero è pari\n"
          ]
        }
      ],
      "source": [
        "# Es 4.1: Ottenere dall'utente un numero in input e scrivere a schermo \"Pari\" se il numero è pari, scrivere \"Dispari\" altrimenti\n",
        "x= input()\n",
        "x=int(input())\n",
        "if x % 2 == 0 : \n",
        "         print(\"Il numero è pari\")\n",
        "if x % 2 != 0 :\n",
        "         print(\"Il numero è dispari\")"
      ]
    },
    {
      "cell_type": "code",
      "execution_count": 15,
      "metadata": {
        "id": "gE3RVr9ORuwP"
      },
      "outputs": [
        {
          "name": "stdout",
          "output_type": "stream",
          "text": [
            "La figura costruita non è un triangolo\n"
          ]
        }
      ],
      "source": [
        "# Es 4.2: Ottenere dall'utente tre angoli caso siano i tre angoli di un triangolo scrivere a schermo \"È un triangolo\", altrimenti \"Non è un triangolo\"\n",
        "a= float(input())\n",
        "b= float(input())\n",
        "c= float(input())\n",
        "if a + b + c == 180 :\n",
        "    print(\"La figura costruita è un triangolo\")\n",
        "if a + b + c != 180 :\n",
        "    print(\"La figura costruita non è un triangolo\")\n"
      ]
    },
    {
      "cell_type": "code",
      "execution_count": 1,
      "metadata": {
        "id": "r1A_DavcSKgi"
      },
      "outputs": [
        {
          "name": "stdout",
          "output_type": "stream",
          "text": [
            "La figura è un triangolo\n",
            "Il triangolo è rettangolo\n"
          ]
        }
      ],
      "source": [
        "# Es 4.3: Ottenuti dall'utente tre angoli di un tringolo scrivere a schermo se i tre angoli descrivono un triangolo rettangolo o no\n",
        "x = float(input())\n",
        "y = float(input())\n",
        "z = float(input())\n",
        "if x + y + z == 180 :\n",
        "       print(\"La figura è un triangolo\") \n",
        "       if x==90 or y==90 or z==90 :\n",
        "           print(\"Il triangolo è rettangolo\")\n",
        "       else:\n",
        "           print(\"Il triangolo nonè rettangolo\")\n",
        "else :\n",
        "       print(\"LA figura non è un triangolo\")\n"
      ]
    },
    {
      "cell_type": "code",
      "execution_count": 7,
      "metadata": {
        "id": "iA9D4X_GSims"
      },
      "outputs": [
        {
          "name": "stdout",
          "output_type": "stream",
          "text": [
            "La figura no è un trinagolo\n",
            "La figura è un triangolo equilatero\n"
          ]
        }
      ],
      "source": [
        "# Es 4.4: Ottenuti dall'utente tre angoli di un tringolo scrivere a schermo se i tre angoli descrivono un triangolo equilatero o no\n",
        "x=float(input())\n",
        "y=float(input())\n",
        "z=float(input())\n",
        "\n",
        "if x + y + z == 180 :\n",
        "  print(\"La figura è un triangolo\") \n",
        "else :\n",
        "  print(\"La figura non è un triangolo\")\n",
        "if x==y and x==z and z==x and z==y :\n",
        "  print(\"La figura è un triangolo equilatero\")\n",
        "else :\n",
        "  print(\"Il triangolo non è equilatero\")"
      ]
    },
    {
      "cell_type": "code",
      "execution_count": 11,
      "metadata": {
        "id": "8q4gadoTSU7J"
      },
      "outputs": [
        {
          "name": "stdout",
          "output_type": "stream",
          "text": [
            "La figura è un triangolo\n",
            "Il triangolo è isoscele\n"
          ]
        }
      ],
      "source": [
        "# Es 4.5: Ottenuti dall'utente tre angoli di un tringolo scrivere a schermo se i tre angoli descrivono un triangolo isocele o no\n",
        "x=float(input())\n",
        "y=float(input())\n",
        "z=float(input())\n",
        "\n",
        "if x + y + z == 180 :\n",
        "    print(\"La figura è un triangolo\")\n",
        "else :\n",
        "    print(\"La figura non è un triangolo\")\n",
        "if x==y or x==z or y==z :\n",
        "    print(\"Il triangolo è isoscele\")\n",
        "else :\n",
        "    print(\"Il trinagolo non è isoscele\")"
      ]
    },
    {
      "cell_type": "code",
      "execution_count": 4,
      "metadata": {
        "id": "yVIE2kK3SYlq"
      },
      "outputs": [
        {
          "name": "stdout",
          "output_type": "stream",
          "text": [
            "La figura è un triangolo\n",
            "Il triangolo è equilatero\n"
          ]
        }
      ],
      "source": [
        "# Es 4.6: Ottenuti dall'utente tre angoli di un tringolo scrivere a schermo se i tre angoli descrivono un triangolo isocele, rettagolo, equilatero o scaleno\n",
        "x=float(input(\"Inserisci il valore del primo angolo\"))\n",
        "y=float(input(\"Inserisci il valore del secondo angolo\"))\n",
        "z=float(input(\"Inserisci il valore del terzo angolo\"))\n",
        "if x + y + z == 180 :\n",
        "    print(\"La figura è un triangolo\")\n",
        "    if x!=y and y!=z and x!=z :\n",
        "        print(\"Il triangolo è scaleno\")\n",
        "    elif x==60 and y==60 and z==60 :\n",
        "        print(\"Il triangolo è equilatero\")\n",
        "    elif x==y or y==z or x==z :\n",
        "        print(\"Il triangolo è isocele\")\n",
        "    if x==90 or y==90 or z==90 :\n",
        "        print(\"Il triangolo è rettangolo\")\n",
        "else:\n",
        "    print(\"La figura non è un triangolo\")"
      ]
    },
    {
      "cell_type": "markdown",
      "metadata": {
        "id": "ef5snVxLqeQh"
      },
      "source": [
        "# Esercizi WHILE\n"
      ]
    },
    {
      "cell_type": "code",
      "execution_count": 9,
      "metadata": {
        "id": "j61RqiHxqdmh"
      },
      "outputs": [
        {
          "name": "stdout",
          "output_type": "stream",
          "text": [
            "5\n",
            "5\n",
            "5\n",
            "5\n",
            "5\n",
            "5\n",
            "5\n",
            "5\n",
            "5\n",
            "5\n"
          ]
        }
      ],
      "source": [
        "# Es 4.7: Creare una funzione print_n(n,v) che stampi n volte il. contenuto di v\n",
        "def print_n(n,v):\n",
        "    m=0\n",
        "    while m<n:\n",
        "        print(v)\n",
        "        m=m+1\n",
        "\n",
        "v=int(input(\"Inserisci il valore da visualizzare\"))\n",
        "n=int(input(\"Inserisci il numero di volte da stampre v \"))\n",
        "print_n(n,v)"
      ]
    },
    {
      "cell_type": "code",
      "execution_count": 14,
      "metadata": {
        "colab": {
          "base_uri": "https://localhost:8080/"
        },
        "id": "-6lAm-hfq9w9",
        "outputId": "399e82ba-3cfe-475f-f8df-0e156677ec75"
      },
      "outputs": [
        {
          "name": "stdout",
          "output_type": "stream",
          "text": [
            "1\n"
          ]
        }
      ],
      "source": [
        "# Es 4.8: Inserito il numero n dire per quali numeri, compresi tra 1 e n, è divisibile.\n",
        "# Inserisco 10: stampo 1,2,5\n",
        "# Inserisco 7: stampo 1\n",
        "numero=int(input(\"Inserisci un numero\"))\n",
        "\n",
        "m=1\n",
        "while m <= numero/2:\n",
        "    if numero % m==0:\n",
        "        print(m)\n",
        "    m=m+1"
      ]
    },
    {
      "cell_type": "code",
      "execution_count": 5,
      "metadata": {
        "colab": {
          "base_uri": "https://localhost:8080/"
        },
        "id": "GjC4LdR7rP-b",
        "outputId": "9f539b4d-c307-479a-da13-610a7e1cc46e"
      },
      "outputs": [
        {
          "name": "stdout",
          "output_type": "stream",
          "text": [
            "Il numero 7 è primo\n",
            "Il numero 7 è primo\n",
            "Il numero 7 è primo\n",
            "Il numero 7 è primo\n",
            "Il numero 7 è primo\n"
          ]
        }
      ],
      "source": [
        "# Es 4.9: Inserito il numero n dire se è primo o no\n",
        "numero=int(input(\"Inserisci il numero che preferisci\"))\n",
        "\n",
        "n=int(input())\n",
        "m=2\n",
        "primo=True\n",
        "\n",
        "while primo and m < n:\n",
        "    if n%m==0:\n",
        "        print(\"il numero\",n,\" non è primo \")\n",
        "        primo=False\n",
        "    else:\n",
        "        m=m+1\n",
        "        print(\"Il numero\",n,\"è primo\")"
      ]
    },
    {
      "cell_type": "code",
      "execution_count": 2,
      "metadata": {
        "colab": {
          "base_uri": "https://localhost:8080/"
        },
        "id": "CxtWnOdHsTv4",
        "outputId": "5d874410-cb07-46a2-9c22-83d541b7a91a"
      },
      "outputs": [],
      "source": [
        "# Es 4.10: Creare la funzione moltiplica che restituisce il prodotto tra due numeri senza utilizzare *\n",
        "# 3*4 è uguale a 4+4+4\n",
        "x=int(input(\"Inserisci il primo numero\"))\n",
        "y=int(input(\"Inserisci il secondo numero\"))\n",
        "\n",
        "def moltiplica(x,y):\n",
        "    m=1\n",
        "    prodotto=0\n",
        "    if x>=0:\n",
        "        while m<=x:\n",
        "            prodotto=prodotto + y\n",
        "            m=m+1\n",
        "        print(prodotto)\n",
        "    if x<0 and y>=0:\n",
        "        while m<=y:\n",
        "            prodotto=prodotto + x\n",
        "            m=m+1\n",
        "        print(prodotto)\n",
        "    elif x<0 and y<0:\n",
        "        x=-x\n",
        "        y=-y\n",
        "        while m<=x:\n",
        "            prodotto=prodotto + y\n",
        "            m=m+1\n",
        "        print(prodotto)\n",
        "        moltiplica(x,y)\n",
        "\n",
        "\n"
      ]
    }
  ],
  "metadata": {
    "colab": {
      "provenance": []
    },
    "kernelspec": {
      "display_name": "Python 3",
      "name": "python3"
    },
    "language_info": {
      "codemirror_mode": {
        "name": "ipython",
        "version": 3
      },
      "file_extension": ".py",
      "mimetype": "text/x-python",
      "name": "python",
      "nbconvert_exporter": "python",
      "pygments_lexer": "ipython3",
      "version": "3.10.8"
    }
  },
  "nbformat": 4,
  "nbformat_minor": 0
}
